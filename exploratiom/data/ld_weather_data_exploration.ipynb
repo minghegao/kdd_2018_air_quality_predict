{
 "cells": [
  {
   "cell_type": "code",
   "execution_count": 1,
   "metadata": {},
   "outputs": [],
   "source": [
    "%load_ext autoreload\n",
    "%autoreload 2\n",
    "\n",
    "import datetime\n",
    "import numpy as np\n",
    "import pandas as pd\n",
    "from matplotlib import pyplot as plt\n",
    "\n",
    "from utils.weather_data_util import get_station_locations, get_location_lists\n",
    "from utils.weather_data_util import find_nearst_meo_station_name, get_related_meo_dfs\n",
    "from utils.data_util import load_bj_aq_data\n",
    "\n",
    "%matplotlib inline"
   ]
  },
  {
   "cell_type": "code",
   "execution_count": 15,
   "metadata": {
    "scrolled": true
   },
   "outputs": [],
   "source": [
    "# 网格气象数据\n",
    "ld_grid_meo_all = pd.read_csv(\"./KDD_CUP_2018/London/grid_meo/London_historical_meo_grid.csv\")\n",
    "# 空气质量站点的经纬度\n",
    "aq_station_locations = pd.read_csv(\"./KDD_CUP_2018/London/location/London_AirQuality_Stations.csv\")"
   ]
  },
  {
   "cell_type": "code",
   "execution_count": 18,
   "metadata": {},
   "outputs": [],
   "source": [
    "aq_station_locations.rename(index=str, columns={\"Unnamed: 0\":\"stationName\", \"Longitude\":\"longitude\", \"Latitude\":\"latitude\"}, inplace=True)"
   ]
  },
  {
   "cell_type": "markdown",
   "metadata": {},
   "source": [
    "### 1. 站点位置"
   ]
  },
  {
   "cell_type": "code",
   "execution_count": 19,
   "metadata": {},
   "outputs": [
    {
     "name": "stdout",
     "output_type": "stream",
     "text": [
      "There are 861 grid meo stations in London.\n",
      "There are 24 air quality stations in London.\n"
     ]
    }
   ],
   "source": [
    "ld_grid_meo = ld_grid_meo_all.head(861)  # 因为一共只有 651 个 grid\n",
    "\n",
    "grid_meo_locations = get_station_locations(ld_grid_meo)\n",
    "aq_locations = get_station_locations(aq_station_locations)\n",
    "\n",
    "print(\"There are %d grid meo stations in London.\" %(len(grid_meo_locations)))\n",
    "print(\"There are %d air quality stations in London.\" %(len(aq_locations)))"
   ]
  },
  {
   "cell_type": "code",
   "execution_count": 20,
   "metadata": {},
   "outputs": [],
   "source": [
    "grid_meo_locations_longitudes, grid_meo_locations_latitudes = get_location_lists(grid_meo_locations)\n",
    "aq_locations_longitudes, aq_locations_latitudes = get_location_lists(aq_locations)"
   ]
  },
  {
   "cell_type": "code",
   "execution_count": 21,
   "metadata": {},
   "outputs": [
    {
     "data": {
      "image/png": "[encoded data removed]",
      "text/plain": [
       "<Figure size 1080x1080 with 1 Axes>"
      ]
     },
     "metadata": {},
     "output_type": "display_data"
    }
   ],
   "source": [
    "plt.rc(\"figure\", figsize=(15,15));\n",
    "plt.plot(grid_meo_locations_longitudes, grid_meo_locations_latitudes, \"bo\", label=\"grid_meo\");\n",
    "plt.plot(aq_locations_longitudes, aq_locations_latitudes, \"ro\", label=\"aq_station\");\n",
    "plt.legend();"
   ]
  },
  {
   "cell_type": "markdown",
   "metadata": {},
   "source": [
    "### 2. 距离空气质量站点最近的天气站点"
   ]
  },
  {
   "cell_type": "code",
   "execution_count": 22,
   "metadata": {},
   "outputs": [],
   "source": [
    "aq_station_nearest_meo_station = {}\n",
    "\n",
    "# 暂时只使用 网格气象数据\n",
    "# stations = meo_locations + grid_meo_locations\n",
    "stations = grid_meo_locations\n",
    "\n",
    "for aq_station in aq_locations:\n",
    "    nearest_meo_station_name = find_nearst_meo_station_name(aq_station, stations)\n",
    "    aq_station_nearest_meo_station[aq_station[0]] = nearest_meo_station_name"
   ]
  },
  {
   "cell_type": "code",
   "execution_count": 23,
   "metadata": {},
   "outputs": [
    {
     "data": {
      "text/plain": [
       "{'BL0': 'london_grid_409',\n",
       " 'BX1': 'london_grid_472',\n",
       " 'BX9': 'london_grid_472',\n",
       " 'CD1': 'london_grid_388',\n",
       " 'CD9': 'london_grid_409',\n",
       " 'CR8': 'london_grid_408',\n",
       " 'CT2': 'london_grid_409',\n",
       " 'CT3': 'london_grid_409',\n",
       " 'GB0': 'london_grid_451',\n",
       " 'GN0': 'london_grid_451',\n",
       " 'GN3': 'london_grid_451',\n",
       " 'GR4': 'london_grid_451',\n",
       " 'GR9': 'london_grid_430',\n",
       " 'HR1': 'london_grid_368',\n",
       " 'HV1': 'london_grid_472',\n",
       " 'KC1': 'london_grid_388',\n",
       " 'KF1': 'london_grid_388',\n",
       " 'LH0': 'london_grid_346',\n",
       " 'LW2': 'london_grid_430',\n",
       " 'MY7': 'london_grid_388',\n",
       " 'RB7': 'london_grid_452',\n",
       " 'ST5': 'london_grid_408',\n",
       " 'TD5': 'london_grid_366',\n",
       " 'TH4': 'london_grid_430'}"
      ]
     },
     "execution_count": 23,
     "metadata": {},
     "output_type": "execute_result"
    }
   ],
   "source": [
    "# 空气质量站点 与 天气站点\n",
    "aq_station_nearest_meo_station"
   ]
  },
  {
   "cell_type": "markdown",
   "metadata": {},
   "source": [
    "对于上述字典中的键对应的 aq_station，直接使用对应的 value 作为其天气数据"
   ]
  },
  {
   "cell_type": "code",
   "execution_count": null,
   "metadata": {
    "collapsed": true
   },
   "outputs": [],
   "source": []
  }
 ],
 "metadata": {
  "kernelspec": {
   "display_name": "Python 3",
   "language": "python",
   "name": "python3"
  },
  "language_info": {
   "codemirror_mode": {
    "name": "ipython",
    "version": 3
   },
   "file_extension": ".py",
   "mimetype": "text/x-python",
   "name": "python",
   "nbconvert_exporter": "python",
   "pygments_lexer": "ipython3",
   "version": "3.5.2"
  }
 },
 "nbformat": 4,
 "nbformat_minor": 2
}
